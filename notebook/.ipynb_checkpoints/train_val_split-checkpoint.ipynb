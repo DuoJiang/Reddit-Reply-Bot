{
 "cells": [
  {
   "cell_type": "code",
   "execution_count": 13,
   "metadata": {},
   "outputs": [],
   "source": [
    "import pandas as pd\n",
    "import numpy as np\n",
    "from sklearn.model_selection import train_test_split"
   ]
  },
  {
   "cell_type": "code",
   "execution_count": 2,
   "metadata": {},
   "outputs": [],
   "source": [
    "positive_comment = pd.read_csv('../data/raw/comments_positive.csv')\n",
    "negative_comment = pd.read_csv('../data/raw/comments_negative.csv')"
   ]
  },
  {
   "cell_type": "code",
   "execution_count": 8,
   "metadata": {},
   "outputs": [],
   "source": [
    "positive_comment = positive_comment[['id', 'text', 'score']]\n",
    "negative_comment = negative_comment[['id', 'text', 'score']]"
   ]
  },
  {
   "cell_type": "code",
   "execution_count": 16,
   "metadata": {},
   "outputs": [],
   "source": [
    "train_df, test_df = train_test_split(positive_comment, test_size=0.2, random_state=42)\n",
    "train_df.to_csv('../data/processed/Bert-Upvote-Predictor/positive_train_comment.csv')\n",
    "train_df.to_csv('../data/processed/Bert-Upvote-Predictor/positive__valid_comment.csv')"
   ]
  },
  {
   "cell_type": "code",
   "execution_count": 17,
   "metadata": {},
   "outputs": [],
   "source": [
    "train_df, test_df = train_test_split(negative_comment, test_size=0.2, random_state=42)\n",
    "train_df.to_csv('../data/processed/Bert-Upvote-Predictor/negative_train_comment.csv')\n",
    "train_df.to_csv('../data/processed/Bert-Upvote-Predictor/negative__valid_comment.csv')"
   ]
  },
  {
   "cell_type": "code",
   "execution_count": null,
   "metadata": {},
   "outputs": [],
   "source": []
  }
 ],
 "metadata": {
  "kernelspec": {
   "display_name": "Python 3",
   "language": "python",
   "name": "python3"
  },
  "language_info": {
   "codemirror_mode": {
    "name": "ipython",
    "version": 3
   },
   "file_extension": ".py",
   "mimetype": "text/x-python",
   "name": "python",
   "nbconvert_exporter": "python",
   "pygments_lexer": "ipython3",
   "version": "3.7.6"
  }
 },
 "nbformat": 4,
 "nbformat_minor": 4
}
